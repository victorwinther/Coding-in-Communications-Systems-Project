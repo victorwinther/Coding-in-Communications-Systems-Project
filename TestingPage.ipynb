{
 "cells": [
  {
   "cell_type": "code",
   "execution_count": 1,
   "metadata": {},
   "outputs": [],
   "source": [
    "import numpy as np\n",
    "from PIL import Image"
   ]
  },
  {
   "cell_type": "code",
   "execution_count": 4,
   "metadata": {},
   "outputs": [],
   "source": [
    "import numpy as np\n",
    "from PIL import Image\n",
    "\n",
    "def rgb_to_ycbcr(image):\n",
    "    \"\"\"\n",
    "    Convert an RGB image to YCbCr and return separate Y, Cb, and Cr images.\n",
    "    \n",
    "    Parameters:\n",
    "    - image: a PIL Image object in RGB mode.\n",
    "    \n",
    "    Returns:\n",
    "    - Y, Cb, Cr: numpy arrays representing the Y, Cb, and Cr components.\n",
    "    \"\"\"\n",
    "    # Convert the image to numpy array\n",
    "    img_array = np.array(image, dtype=float)\n",
    "    \n",
    "    # Separate the RGB channels\n",
    "    R = img_array[:, :, 0]\n",
    "    G = img_array[:, :, 1]\n",
    "    B = img_array[:, :, 2]\n",
    "    \n",
    "    # Apply the conversion formulas\n",
    "    Y = 0.299 * R + 0.587 * G + 0.114 * B\n",
    "    Cb = 128 - 0.168736 * R - 0.331264 * G + 0.5 * B\n",
    "    Cr = 128 + 0.5 * R - 0.418688 * G - 0.081312 * B\n",
    "    \n",
    "    return Y, Cb, Cr\n",
    "\n",
    "def save_component_image(component, filename):\n",
    "    \"\"\"\n",
    "    Save a single Y, Cb, or Cr component as an image.\n",
    "    \n",
    "    Parameters:\n",
    "    - component: a numpy array representing the Y, Cb, or Cr component.\n",
    "    - filename: the name of the file to save the image as.\n",
    "    \"\"\"\n",
    "    component_uint8 = np.uint8(component)\n",
    "    component_pil = Image.fromarray(component_uint8)\n",
    "    component_pil.save(filename)\n",
    "\n",
    "# Example usage:\n",
    "image_path = 'sample.bmp'\n",
    "image = Image.open(image_path).convert('RGB')\n",
    "Y, Cb, Cr = rgb_to_ycbcr(image)\n",
    "\n",
    "# Save the Y, Cb, and Cr images\n",
    "# save_component_image(Y, 'Y_component.bmp')\n",
    "# save_component_image(Cb, 'Cb_component.bmp')\n",
    "# save_component_image(Cr, 'Cr_component.bmp')\n",
    "\n",
    "# To visualize the components\n",
    "Image.fromarray(np.uint8(Y)).show(title=\"Y Component\")\n",
    "Image.fromarray(np.uint8(Cb)).show(title=\"Cb Component\")\n",
    "Image.fromarray(np.uint8(Cr)).show(title=\"Cr Component\")\n"
   ]
  }
 ],
 "metadata": {
  "kernelspec": {
   "display_name": "Jesper",
   "language": "python",
   "name": "python3"
  },
  "language_info": {
   "codemirror_mode": {
    "name": "ipython",
    "version": 3
   },
   "file_extension": ".py",
   "mimetype": "text/x-python",
   "name": "python",
   "nbconvert_exporter": "python",
   "pygments_lexer": "ipython3",
   "version": "3.9.13"
  }
 },
 "nbformat": 4,
 "nbformat_minor": 2
}
